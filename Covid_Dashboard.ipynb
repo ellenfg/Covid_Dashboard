{
 "cells": [
  {
   "cell_type": "markdown",
   "metadata": {},
   "source": [
    "# England vs Scotland\n",
    "\n",
    "The dashboard below compares the vaccination rates in different age groups in England and Scotland. The rates are the percentage of the population who has had their second dose. \n",
    "The 'difference' value highlights the difference in vaccination rates between the two nations, with Scotland having vaccinated a greater proportion of its population."
   ]
  },
  {
   "cell_type": "code",
   "execution_count": 1,
   "metadata": {},
   "outputs": [],
   "source": [
    "from IPython.display import clear_output\n",
    "import ipywidgets as wdg\n",
    "import pandas as pd\n",
    "import numpy as np\n",
    "import matplotlib.pyplot as plt\n",
    "import json\n",
    "from uk_covid19 import Cov19API"
   ]
  },
  {
   "cell_type": "code",
   "execution_count": 2,
   "metadata": {},
   "outputs": [],
   "source": [
    "%matplotlib inline\n",
    "# make figures larger\n",
    "plt.rcParams['figure.dpi'] = 100"
   ]
  },
  {
   "cell_type": "code",
   "execution_count": 3,
   "metadata": {},
   "outputs": [],
   "source": [
    "# Loading the JSON files of data to create default values for the graph.\n",
    "jsondata={}\n",
    "with open(\"eng.json\", \"rt\") as IFILE:\n",
    "    eng=json.load(IFILE)\n",
    "engjson = eng['data'][0]\n",
    "with open(\"scot.json\", \"rt\") as IFILE:\n",
    "    scot=json.load(IFILE)\n",
    "scotjson = scot['data'][0]"
   ]
  },
  {
   "cell_type": "code",
   "execution_count": null,
   "metadata": {},
   "outputs": [],
   "source": [
    "engjson"
   ]
  },
  {
   "cell_type": "code",
   "execution_count": 4,
   "metadata": {},
   "outputs": [],
   "source": [
    "def wrangle_data(datascot,dataeng):\n",
    "    \"\"\" Parameters: rawdata - data from json file or API call. Returns a dataframe. \"\"\"\n",
    "    def add_dicts(vaccined,ages):\n",
    "        \"\"\"Function to manipulate England's age ranges to align with Scotland, combines dictionaries of multiple age ranges into one to match Scotland.\n",
    "        Parameters are raw data and the list of age ranges to combine.\"\"\"\n",
    "        agel = ages[:] #getting a new age range from the list of ages\n",
    "        agel = [x.replace('_',' ').replace('+',' ') for x in agel]\n",
    "        agel = ' '.join(agel)\n",
    "        agel = [int(i) for i in agel.split()]\n",
    "        agel.sort()\n",
    "        if agel[-1]!=90:\n",
    "            newval = f'{agel[0]}_{agel[-1]}' \n",
    "        else:\n",
    "            newval = f'{agel[0]}+'\n",
    "        newd = {k:0 for k in vaccined[0]} #create a new dict with merged values\n",
    "        for d in vaccined: #iterating over the raw data to get the values to combine\n",
    "            for key,value in d.items():\n",
    "                d[key]=0 if d[key] is None else d[key]\n",
    "            if d['age'] in ages: #finding the dictionary to combine\n",
    "                for key, value in newd.items():\n",
    "                    if key =='age':\n",
    "                        newd['age']=newval\n",
    "                    else:\n",
    "                        value = float(d[key])\n",
    "                        newd[key]+=value\n",
    "                i = vaccined.index(d) #inserting the new dict into the original data and removing the original dict\n",
    "                vaccined.pop(i)\n",
    "                if newd not in vaccined:\n",
    "                    vaccined[i]=newd\n",
    "                else:\n",
    "                    vaccined\n",
    "        return vaccined #returning the list of data with the new dictionary inserted\n",
    "    agesscot=[x['age'] for x in datascot['vaccinated']] #list of ages for x axis\n",
    "    vaccineseng = dataeng['vaccinated'].copy() #copying the data to manipulate\n",
    "    ages = [['18_24','25_29'], ['30_34','35_39'],['40_44','45_49'],['80_84','85_89','90+']]# lists of lists of ages to combine \n",
    "    for a in ages: #iterating over this list to call the manipulation function on each\n",
    "        vaccineseng = add_dicts(vaccineseng,a)\n",
    "    def min_age(agerange):\n",
    "        agerange=agerange.replace('+','') # remove the + from 90+\n",
    "        start=agerange.split('_')[0]\n",
    "        return int(start)\n",
    "    agesscot.sort(key=min_age)\n",
    "    nations ='' #getting a list of nations for the plot values \n",
    "    for v in dataeng:\n",
    "        if dataeng['nation'] not in nations:\n",
    "            nations+=' '+dataeng['nation']\n",
    "    for v in datascot:\n",
    "        if datascot['nation'] not in nations:\n",
    "            nations+=' '+datascot['nation']\n",
    "    nations = nations.split()\n",
    "    age_df=pd.DataFrame(index=agesscot, columns=nations+['Difference'])#adding in a difference column to show comparison\n",
    "    for entry in datascot['vaccinated']: #iterating over dictionaries, each age band is a dictionary\n",
    "        ageband=entry['age'] \n",
    "        age_df.loc[ageband, 'Scotland']=entry['cumVaccinationCompleteCoverageByVaccinationDatePercentage']\n",
    "    for entry in vaccineseng: \n",
    "        ageband = entry['age']\n",
    "        if ageband in agesscot: \n",
    "            percent = round((entry['cumPeopleVaccinatedCompleteByVaccinationDate']/entry['VaccineRegisterPopulationByVaccinationDate'])*100,1)#calculating this field for England due to manipulation above\n",
    "            age_df.loc[ageband, 'England']= percent\n",
    "    age_df['Difference']=age_df['Scotland']-age_df['England']\n",
    "    return age_df\n",
    "\n",
    "df = wrangle_data(scotjson,engjson) # wrangling the JSON data to ensure there is data at dashboard startup"
   ]
  },
  {
   "cell_type": "markdown",
   "metadata": {},
   "source": [
    "Click the 'refresh data' button below to retrieve the most up-to-date data from Public Health England."
   ]
  },
  {
   "cell_type": "code",
   "execution_count": 5,
   "metadata": {},
   "outputs": [],
   "source": [
    "\"\"\"Callback functions to be called by refresh data button. Two API calls to retrieve data for England and Scotland\"\"\"\n",
    "def access_eng(): #england data\n",
    "    filters1 = [\n",
    "        'areaType=nation',\n",
    "        'areaName=england'\n",
    "    ]\n",
    "    structure1 = {\n",
    "        'nation':'areaName',\n",
    "        \"vaccinated\":\"vaccinationsAgeDemographics\"\n",
    "    }\n",
    "    apiE = Cov19API(filters=filters1, structure=structure1)\n",
    "    england = apiE.get_json()\n",
    "    apiE = england['data'][0] #formatting the same as JSON files\n",
    "    apibutton.icon=\"check\"\n",
    "    apibutton.disabled=True\n",
    "    return apiE # return data read from the API\n",
    "def access_scot():\n",
    "    filters2 = [\n",
    "    'areaType=nation',\n",
    "    'areaName=scotland'\n",
    "    ]\n",
    "    structure2 = {\n",
    "    'nation':'areaName',\n",
    "    \"vaccinated\":\"vaccinationsAgeDemographics\"\n",
    "    }\n",
    "    apiS = Cov19API(filters=filters2, structure=structure2)\n",
    "    scotland = apiS.get_json()\n",
    "    apiS = scotland['data'][0] #formatting the same as JSON files\n",
    "    apibutton.icon=\"check\"\n",
    "    apibutton.disabled=True\n",
    "    return apiS # return data read from the API\n"
   ]
  },
  {
   "cell_type": "code",
   "execution_count": 6,
   "metadata": {},
   "outputs": [
    {
     "data": {
      "application/vnd.jupyter.widget-view+json": {
       "model_id": "c65464f2cd4640c99943d281b2e1d986",
       "version_major": 2,
       "version_minor": 0
      },
      "text/plain": [
       "Button(description='Refresh data', icon='download', style=ButtonStyle(), tooltip='Click to download current Pu…"
      ]
     },
     "metadata": {},
     "output_type": "display_data"
    }
   ],
   "source": [
    "def api_button_callback(button):\n",
    "    \"\"\" Button callback - takes the button as its parameter, calls the functions to access the API for Scotland and England data,\n",
    "    wrangles the data and updates the dataframe for plotting \"\"\"\n",
    "    # Get fresh data from the API. If you have time, include some error handling\n",
    "    # around this call.\n",
    "    apiscot=access_scot()\n",
    "    apieng= access_eng()\n",
    "    # wrangle the data and overwrite the dataframe for plotting\n",
    "    global df\n",
    "    df=wrangle_data(apiscot,apieng)\n",
    "    # this function simulates the interaction with widget to refresh the graph.\n",
    "    refresh_graph()\n",
    "    #changing the button to 'check' and disabling the button to avoid too many API calls by end user. \n",
    "    apibutton.icon=\"check\"\n",
    "    apibutton.disabled=True\n",
    "\n",
    "    \n",
    "apibutton=wdg.Button(\n",
    "    description='Refresh data',\n",
    "    disabled=False,\n",
    "    button_style='', \n",
    "    tooltip='Click to download current Public Health England data',\n",
    "    icon='download' # (FontAwesome names without the `fa-` prefix)\n",
    ")\n",
    "\n",
    "apibutton.on_click(api_button_callback) # registers the button callback function with the button\n",
    "\n",
    "display(apibutton)\n"
   ]
  },
  {
   "cell_type": "markdown",
   "metadata": {},
   "source": [
    "You can explore the graph below by selecting the nation whose rates you want to see, or the difference between them, in the 'Nation' menu. You can also select whether you want to view this data as a bar or line graph in the 'Graph Type' menu."
   ]
  },
  {
   "cell_type": "code",
   "execution_count": null,
   "metadata": {},
   "outputs": [
    {
     "data": {
      "application/vnd.jupyter.widget-view+json": {
       "model_id": "4ac9ef720cb04ebfb02a31d5fb04acaa",
       "version_major": 2,
       "version_minor": 0
      },
      "text/plain": [
       "HBox(children=(SelectMultiple(description='Nation', index=(0, 1, 2), options=('England', 'Scotland', 'Differen…"
      ]
     },
     "metadata": {},
     "output_type": "display_data"
    },
    {
     "data": {
      "application/vnd.jupyter.widget-view+json": {
       "model_id": "618b69d5eea049b8ac5976d7c8f95698",
       "version_major": 2,
       "version_minor": 0
      },
      "text/plain": [
       "Output()"
      ]
     },
     "metadata": {},
     "output_type": "display_data"
    }
   ],
   "source": [
    "nation=wdg.SelectMultiple(\n",
    "    options=['England','Scotland','Difference'], # options available\n",
    "    value=['England','Scotland','Difference'], # default value\n",
    "    rows=3, \n",
    "    description='Nation',\n",
    "    disabled=False\n",
    ")\n",
    "\n",
    "gtype=wdg.RadioButtons(\n",
    "    options=['bar', 'line'],\n",
    "    value='bar', # default value\n",
    "    description='Graph Type',\n",
    "    disabled=False\n",
    ")\n",
    "\n",
    "controls=wdg.HBox([nation, gtype])\n",
    "\n",
    "def age_graph(graphcolumns,type):\n",
    "    # our callback function.\n",
    "    ncols=len(graphcolumns)\n",
    "    if ncols>0 and type == 'bar':\n",
    "        df.plot(kind='bar', y=list(graphcolumns)) # changing graphcolumns tuple to a list\n",
    "        plt.show() \n",
    "    elif ncols>0 and type =='line':\n",
    "        df.plot(kind='line', y=list(graphcolumns)) # changing graphcolumns tuple to a list\n",
    "        plt.show() \n",
    "    else:\n",
    "        # if the user has not selected any column, print a message instead\n",
    "        print(\"Click to select data for graph\")\n",
    "        print(\"(CTRL-Click to select more than one category)\")\n",
    "\n",
    "\n",
    "def refresh_graph():\n",
    "    current=nation.value #value is a tuple\n",
    "    if current==(nation.options[0],):\n",
    "        other=(nation.options[1],)\n",
    "    else:\n",
    "        other=(nation.options[0],)\n",
    "    nation.value=other # forces the redraw\n",
    "    nation.value=current # now we can change it back\n",
    "    \n",
    "# keep calling age_graph(graphcolumns=value_of_agecols); capture output in widget output    \n",
    "output=wdg.interactive_output(age_graph, {'graphcolumns': nation,'type':gtype})\n",
    "\n",
    "display(controls, output)"
   ]
  },
  {
   "cell_type": "markdown",
   "metadata": {},
   "source": [
    "**Author and Copyright Notice** Author: Ellen Fitzgerald *Based on UK Government [data](https://coronavirus.data.gov.uk/) published by [Public Health England](https://www.gov.uk/government/organisations/public-health-england).*"
   ]
  }
 ],
 "metadata": {
  "kernelspec": {
   "display_name": "Python 3.9.12 ('base')",
   "language": "python",
   "name": "python3"
  },
  "language_info": {
   "codemirror_mode": {
    "name": "ipython",
    "version": 3
   },
   "file_extension": ".py",
   "mimetype": "text/x-python",
   "name": "python",
   "nbconvert_exporter": "python",
   "pygments_lexer": "ipython3",
   "version": "3.11.4"
  },
  "vscode": {
   "interpreter": {
    "hash": "3f4b3e8237095eb5a25231bdf2e58d66207945209745f42c9dda4b3e5b7312ac"
   }
  }
 },
 "nbformat": 4,
 "nbformat_minor": 4
}
