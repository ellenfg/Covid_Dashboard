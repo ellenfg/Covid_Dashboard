{
 "cells": [
  {
   "cell_type": "markdown",
   "metadata": {},
   "source": [
    "# England vs Scotland\n",
    "\n",
    "Comparing vaccination rates in age groups as a proportion of the population. The difference column highlights the greater proportion that Scotland has vaccinated than England.\n"
   ]
  },
  {
   "cell_type": "code",
   "execution_count": 1,
   "metadata": {},
   "outputs": [
    {
     "ename": "ModuleNotFoundError",
     "evalue": "No module named 'uk_covid19'",
     "output_type": "error",
     "traceback": [
      "\u001b[0;31m---------------------------------------------------------------------------\u001b[0m",
      "\u001b[0;31mModuleNotFoundError\u001b[0m                       Traceback (most recent call last)",
      "\u001b[1;32m/Users/Ellen/Documents/University/Semester 1/Computer Programming/diy-covid19dash-main/Coursework/Dashboard-EF.ipynb Cell 3\u001b[0m in \u001b[0;36m<cell line: 7>\u001b[0;34m()\u001b[0m\n\u001b[1;32m      <a href='vscode-notebook-cell:/Users/Ellen/Documents/University/Semester%201/Computer%20Programming/diy-covid19dash-main/Coursework/Dashboard-EF.ipynb#W2sZmlsZQ%3D%3D?line=4'>5</a>\u001b[0m \u001b[39mimport\u001b[39;00m \u001b[39mmatplotlib\u001b[39;00m\u001b[39m.\u001b[39;00m\u001b[39mpyplot\u001b[39;00m \u001b[39mas\u001b[39;00m \u001b[39mplt\u001b[39;00m\n\u001b[1;32m      <a href='vscode-notebook-cell:/Users/Ellen/Documents/University/Semester%201/Computer%20Programming/diy-covid19dash-main/Coursework/Dashboard-EF.ipynb#W2sZmlsZQ%3D%3D?line=5'>6</a>\u001b[0m \u001b[39mimport\u001b[39;00m \u001b[39mjson\u001b[39;00m\n\u001b[0;32m----> <a href='vscode-notebook-cell:/Users/Ellen/Documents/University/Semester%201/Computer%20Programming/diy-covid19dash-main/Coursework/Dashboard-EF.ipynb#W2sZmlsZQ%3D%3D?line=6'>7</a>\u001b[0m \u001b[39mfrom\u001b[39;00m \u001b[39muk_covid19\u001b[39;00m \u001b[39mimport\u001b[39;00m Cov19API\n",
      "\u001b[0;31mModuleNotFoundError\u001b[0m: No module named 'uk_covid19'"
     ]
    }
   ],
   "source": [
    "from IPython.display import clear_output\n",
    "import ipywidgets as wdg\n",
    "import pandas as pd\n",
    "import numpy as np\n",
    "import matplotlib.pyplot as plt\n",
    "import json\n",
    "from uk_covid19 import Cov19API"
   ]
  },
  {
   "cell_type": "code",
   "execution_count": null,
   "metadata": {},
   "outputs": [],
   "source": [
    "%matplotlib inline\n",
    "# make figures larger\n",
    "plt.rcParams['figure.dpi'] = 100"
   ]
  },
  {
   "cell_type": "code",
   "execution_count": null,
   "metadata": {},
   "outputs": [],
   "source": [
    "# Loading the JSON files of data to create default values for the graph.\n",
    "jsondata={}\n",
    "with open(\"eng.json\", \"rt\") as IFILE:\n",
    "    eng=json.load(IFILE)\n",
    "engjson = eng['data'][0]\n",
    "with open(\"scot.json\", \"rt\") as IFILE:\n",
    "    scot=json.load(IFILE)\n",
    "scotjson = scot['data'][0]"
   ]
  },
  {
   "cell_type": "code",
   "execution_count": null,
   "metadata": {},
   "outputs": [],
   "source": [
    "def wrangle_data(datascot,dataeng):\n",
    "    \"\"\" Parameters: rawdata - data from json file or API call. Returns a dataframe.\n",
    "    Edit to include the code that wrangles the data, creates the dataframe and fills it in. \"\"\"\n",
    "    def add_dicts(vaccined,ages):#function to manipulate England's age ranges to align with Scotland\n",
    "        agel = ages[:] #first getting a new key from the list of ages, biggest and smallest value in range\n",
    "        agel = [x.replace('_',' ').replace('+',' ') for x in agel]\n",
    "        agel = ' '.join(agel)\n",
    "        agel = [int(i) for i in agel.split()]\n",
    "        agel.sort()\n",
    "        if agel[-1]!=90:\n",
    "            newval = f'{agel[0]}_{agel[-1]}' \n",
    "        else:\n",
    "            newval = f'{agel[0]}+'\n",
    "        newd = {k:0 for k in vaccined[0]} #create a new England dictionary with merged values\n",
    "        for d in vaccined:\n",
    "            for key,value in d.items():\n",
    "                d[key]=0 if d[key] is None else d[key]\n",
    "            if d['age'] in ages:\n",
    "                for key, value in newd.items():\n",
    "                    if key =='age':\n",
    "                        newd['age']=newval\n",
    "                    else:\n",
    "                        value = float(d[key])\n",
    "                        newd[key]+=value\n",
    "                i = vaccined.index(d)\n",
    "                vaccined.pop(i)\n",
    "                if newd not in vaccined:\n",
    "                    vaccined[i]=newd\n",
    "                else:\n",
    "                    vaccined\n",
    "        return vaccined\n",
    "    agesscot=[x['age'] for x in datascot['vaccinated']]\n",
    "    ageseng=[x['age'] for x in dataeng['vaccinated']]\n",
    "    difference = [x for x in ageseng if x not in agesscot] #finding the ages that are not in common, i.e. blank in dataframe\n",
    "    vaccineseng = dataeng['vaccinated'].copy() #getting the list of dictionaries, one dictionary of data for each age group \n",
    "    ages1 = ['18_24','25_29'] #extracting these lists of ages to combine from the difference list\n",
    "    ages2 = ['30_34','35_39']\n",
    "    ages3 = ['40_44','45_49']\n",
    "    ages4 = ['80_84','85_89','90+']\n",
    "    sortedeng = add_dicts(vaccineseng,ages1)\n",
    "    sortedeng = add_dicts(sortedeng,ages2)\n",
    "    sortedeng = add_dicts(sortedeng,ages3)\n",
    "    sortedeng = add_dicts(sortedeng,ages4)\n",
    "    def min_age(agerange):\n",
    "        agerange=agerange.replace('+','') # remove the + from 90+\n",
    "        start=agerange.split('_')[0]\n",
    "        return int(start)\n",
    "    agesscot.sort(key=min_age)\n",
    "    nations =''\n",
    "    for v in dataeng:\n",
    "        if dataeng['nation'] not in nations:\n",
    "            nations+=' '+dataeng['nation']\n",
    "    for v in datascot:\n",
    "        if datascot['nation'] not in nations:\n",
    "            nations+=' '+datascot['nation']\n",
    "    nations = nations.split()\n",
    "    age_df=pd.DataFrame(index=agesscot, columns=nations+['Difference'])#adding in a difference column to show comparison\n",
    "    for entry in datascot['vaccinated']: #iterating over dictionaries, each age band is a dictionary\n",
    "        ageband=entry['age'] \n",
    "        age_df.loc[ageband, 'Scotland']=entry['cumVaccinationCompleteCoverageByVaccinationDatePercentage']\n",
    "    for entry in sortedeng: \n",
    "        ageband = entry['age']\n",
    "        if ageband in agesscot: \n",
    "            percent = round((entry['cumPeopleVaccinatedCompleteByVaccinationDate']/entry['VaccineRegisterPopulationByVaccinationDate'])*100,1)#calculating this field as manipulation function above makes it unreliable\n",
    "            age_df.loc[ageband, 'England']= percent\n",
    "    age_df['Difference']=age_df['Scotland']-age_df['England']\n",
    "    return age_df\n",
    "\n",
    "df = wrangle_data(scotjson,engjson) # wrangling the JSON data to ensure there is data at dashboard startup"
   ]
  },
  {
   "cell_type": "markdown",
   "metadata": {},
   "source": [
    "## Download current data\n",
    "\n",
    "Click the 'refresh data' button below to retrieve the most up-to-date data from the PHE API. "
   ]
  },
  {
   "cell_type": "code",
   "execution_count": null,
   "metadata": {},
   "outputs": [],
   "source": [
    "\"\"\"Callback functions to be called by refresh data button. Two API calls to retrieve data for England and Scotland\"\"\"\n",
    "def access_eng(): #england data\n",
    "    filters1 = [\n",
    "        'areaType=nation',\n",
    "        'areaName=england'\n",
    "    ]\n",
    "    structure1 = {\n",
    "        'nation':'areaName',\n",
    "        \"vaccinated\":\"vaccinationsAgeDemographics\"\n",
    "    }\n",
    "    apiE = Cov19API(filters=filters1, structure=structure1)\n",
    "    england = apiE.get_json()\n",
    "    apiE = england['data'][0] #formatting the same as JSON files\n",
    "    apibutton.icon=\"check\"\n",
    "    apibutton.disabled=True\n",
    "    return apiE # return data read from the API\n",
    "def access_scot():\n",
    "    filters2 = [\n",
    "    'areaType=nation',\n",
    "    'areaName=scotland'\n",
    "    ]\n",
    "    structure2 = {\n",
    "    'nation':'areaName',\n",
    "    \"vaccinated\":\"vaccinationsAgeDemographics\"\n",
    "    }\n",
    "    apiS = Cov19API(filters=filters2, structure=structure2)\n",
    "    scotland = apiS.get_json()\n",
    "    apiS = scotland['data'][0] #formatting the same as JSON files\n",
    "    apibutton.icon=\"check\"\n",
    "    apibutton.disabled=True\n",
    "    return apiS # return data read from the API\n"
   ]
  },
  {
   "cell_type": "code",
   "execution_count": null,
   "metadata": {},
   "outputs": [
    {
     "data": {
      "application/vnd.jupyter.widget-view+json": {
       "model_id": "7681b70a471a4a2fbb1af81dc5a4da39",
       "version_major": 2,
       "version_minor": 0
      },
      "text/plain": [
       "Button(description='Refresh data', icon='download', style=ButtonStyle(), tooltip='Click to download current Pu…"
      ]
     },
     "metadata": {},
     "output_type": "display_data"
    }
   ],
   "source": [
    "# Printout from this function will be lost in Voila unless captured in an\n",
    "# output widget - therefore, we give feedback to the user by changing the \n",
    "# appearance of the button\n",
    "def api_button_callback(button):\n",
    "    \"\"\" Button callback - takes the button as its parameter, calls the functions to access the API for Scotland and England data,\n",
    "    wrangles the data and updates the dataframe for plotting \"\"\"\n",
    "    # Get fresh data from the API. If you have time, include some error handling\n",
    "    # around this call.\n",
    "    apiscot=access_scot()\n",
    "    apieng= access_eng()\n",
    "    # wrangle the data and overwrite the dataframe for plotting\n",
    "    global df\n",
    "    df=wrangle_data(apiscot,apieng)\n",
    "    # this function simulates the interaction with widget to refresh the graph.\n",
    "    refresh_graph()\n",
    "    #changing the button to 'check' and disabling the button to avoid too many API calls by end user. \n",
    "    apibutton.icon=\"check\"\n",
    "    apibutton.disabled=True\n",
    "\n",
    "    \n",
    "apibutton=wdg.Button(\n",
    "    description='Refresh data',\n",
    "    disabled=False,\n",
    "    button_style='', \n",
    "    tooltip='Click to download current Public Health England data',\n",
    "    icon='download' # (FontAwesome names without the `fa-` prefix)\n",
    ")\n",
    "\n",
    "apibutton.on_click(api_button_callback) # registers the button callback function with the button\n",
    "\n",
    "display(apibutton)\n"
   ]
  },
  {
   "cell_type": "markdown",
   "metadata": {},
   "source": [
    "Include at least one graph with interactive controls, as well as some instructions for the user and/or comments on what the graph represents and how it should be explored (this example shows two random walks)"
   ]
  },
  {
   "cell_type": "code",
   "execution_count": null,
   "metadata": {},
   "outputs": [
    {
     "data": {
      "application/vnd.jupyter.widget-view+json": {
       "model_id": "1be1c450fbc44dc3813e67a84d3dd41e",
       "version_major": 2,
       "version_minor": 0
      },
      "text/plain": [
       "SelectMultiple(description='Nation', index=(0, 1, 2), options=('England', 'Scotland', 'Difference'), rows=3, v…"
      ]
     },
     "metadata": {},
     "output_type": "display_data"
    },
    {
     "data": {
      "application/vnd.jupyter.widget-view+json": {
       "model_id": "d90acb8f3b01434e90eb1a1abd2ee5aa",
       "version_major": 2,
       "version_minor": 0
      },
      "text/plain": [
       "Output()"
      ]
     },
     "metadata": {},
     "output_type": "display_data"
    }
   ],
   "source": [
    "def age_graph(graphcolumns):\n",
    "    # our callback function.\n",
    "    ncols=len(graphcolumns)\n",
    "    if ncols>0:\n",
    "        df.plot(kind='bar', y=list(graphcolumns)) # changing graphcolumns tuple to a list\n",
    "        plt.show() \n",
    "    else:\n",
    "        # if the user has not selected any column, print a message instead\n",
    "        print(\"Click to select data for graph\")\n",
    "        print(\"(CTRL-Click to select more than one category)\")\n",
    "\n",
    "agecols=wdg.SelectMultiple(\n",
    "    options=['England','Scotland','Difference'], # options available\n",
    "    value=['England','Scotland','Difference'], # default value\n",
    "    rows=3, # rows of the selection box\n",
    "    description='Nation',\n",
    "    disabled=False\n",
    ")\n",
    "\n",
    "def refresh_graph():\n",
    "    \"\"\" We change the value of the widget in order to force a redraw of the graph;\n",
    "    this is useful when the data have been updated. This is a bit of a gimmick; it\n",
    "    needs to be customised for one of your widgets. \"\"\"\n",
    "    current=agecols.value #value is a tuple\n",
    "    if current==(agecols.options[0],):\n",
    "        other=(agecols.options[1],)\n",
    "    else:\n",
    "        other=(agecols.options[0],)\n",
    "    agecols.value=other # forces the redraw\n",
    "    agecols.value=current # now we can change it back\n",
    "    \n",
    "# keep calling age_graph(graphcolumns=value_of_agecols); capture output in widget output    \n",
    "output=wdg.interactive_output(age_graph, {'graphcolumns': agecols})\n",
    "\n",
    "display(agecols, output)"
   ]
  },
  {
   "cell_type": "markdown",
   "metadata": {},
   "source": [
    "**Author and Copyright Notice** Ellen Fitzgerald, 2022. Data taken from: *Based on UK Government [data](https://coronavirus.data.gov.uk/) published by [Public Health England](https://www.gov.uk/government/organisations/public-health-england).*\n"
   ]
  }
 ],
 "metadata": {
  "kernelspec": {
   "display_name": "Python 3.9.12 ('base')",
   "language": "python",
   "name": "python3"
  },
  "language_info": {
   "codemirror_mode": {
    "name": "ipython",
    "version": 3
   },
   "file_extension": ".py",
   "mimetype": "text/x-python",
   "name": "python",
   "nbconvert_exporter": "python",
   "pygments_lexer": "ipython3",
   "version": "3.9.12"
  },
  "vscode": {
   "interpreter": {
    "hash": "3f4b3e8237095eb5a25231bdf2e58d66207945209745f42c9dda4b3e5b7312ac"
   }
  }
 },
 "nbformat": 4,
 "nbformat_minor": 4
}
